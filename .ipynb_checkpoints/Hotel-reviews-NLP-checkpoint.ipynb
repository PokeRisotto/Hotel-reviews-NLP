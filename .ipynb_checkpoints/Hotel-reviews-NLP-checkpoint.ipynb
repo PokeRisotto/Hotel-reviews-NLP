{
 "cells": [
  {
   "cell_type": "markdown",
   "metadata": {},
   "source": [
    "# HOTEL REVIEWS NLP\n",
    "## Group E "
   ]
  },
  {
   "cell_type": "code",
   "execution_count": null,
   "metadata": {},
   "outputs": [],
   "source": [
    "import pandas as pd\n",
    "\n",
    "serie = pd.read_csv('Hotel reviews.csv')\n",
    "df = pd.DataFrame(serie)"
   ]
  },
  {
   "cell_type": "code",
   "execution_count": null,
   "metadata": {},
   "outputs": [],
   "source": [
    "# Keeping only the hotels for our business purpose\n",
    "df = df[df['Establishment Type'] == 'Hotel']\n",
    "del df['Establishment Type']\n",
    "df.head()"
   ]
  },
  {
   "cell_type": "markdown",
   "metadata": {},
   "source": [
    "#### Date Cleaning"
   ]
  },
  {
   "cell_type": "code",
   "execution_count": null,
   "metadata": {},
   "outputs": [],
   "source": [
    "df = df[~df['Review Date'].str.contains(\"ago\")]\n",
    "df = df[~df['Review Date'].str.contains(\"NEW\")]\n",
    "df = df.reset_index(drop = True)\n",
    "df['Review Date'] = pd.to_datetime(df['Review Date'])"
   ]
  },
  {
   "cell_type": "code",
   "execution_count": null,
   "metadata": {},
   "outputs": [],
   "source": [
    "#Checking types of columns\n",
    "df.dtypes"
   ]
  },
  {
   "cell_type": "markdown",
   "metadata": {},
   "source": [
    "#### Location Cleaning"
   ]
  },
  {
   "cell_type": "code",
   "execution_count": null,
   "metadata": {},
   "outputs": [],
   "source": [
    "#Assigning a NULL to the empty cell, without doing it it is difficult to work on this column of lists\n",
    "df.Location[df.Location.isnull() == True] = 'NULL' \n",
    "df.Location = df.Location.str.split(\", \")"
   ]
  },
  {
   "cell_type": "code",
   "execution_count": null,
   "metadata": {
    "scrolled": false
   },
   "outputs": [],
   "source": [
    "# Creating a column just with the city and not the country because we have a lot of missing values for the country so is relevant to save only the city\n",
    "for i in range(0,len(df)):\n",
    "        df.Location[i] = df.Location[i][0]\n",
    "        "
   ]
  },
  {
   "cell_type": "markdown",
   "metadata": {},
   "source": [
    "#### Reviewer Rank Cleaning"
   ]
  },
  {
   "cell_type": "code",
   "execution_count": null,
   "metadata": {},
   "outputs": [],
   "source": [
    "#Normalizing Review Rank but replacing NAs with Contributor \n",
    "df['Reviewer Rank'].fillna('Contributor', inplace=True)\n",
    "df['Reviewer Rank'] = df['Reviewer Rank'].map({'Contributor': 1,'Reviewer': 2,\\\n",
    "                                               'Senior Contributor': 3,'Senior Reviewer': 4, 'Top Contributor': 5}).astype(int)"
   ]
  },
  {
   "cell_type": "markdown",
   "metadata": {},
   "source": [
    "#### Expanding the Score Breakdown into 6 different columns: \n",
    "* `Value` \n",
    "* `Location` \n",
    "* `Sleep Quality`\n",
    "* `Rooms` \n",
    "* `Cleanliness` \n",
    "* `Service` "
   ]
  },
  {
   "cell_type": "code",
   "execution_count": null,
   "metadata": {},
   "outputs": [],
   "source": [
    "## creating a function to use in the below for loop\n",
    "def sorter(text):\n",
    "    text = text.strip()\n",
    "    if text == \"Value\":\n",
    "        return 0\n",
    "    elif text == \"Location\":\n",
    "        return 1\n",
    "    elif text == \"Sleep Quality\":\n",
    "        return 2\n",
    "    elif text == \"Rooms\":\n",
    "        return 3\n",
    "    elif text == \"Cleanliness\":\n",
    "        return 4\n",
    "    elif text == \"Service\":\n",
    "        return 5\n",
    "    else:\n",
    "        return 6\n",
    "    "
   ]
  },
  {
   "cell_type": "code",
   "execution_count": null,
   "metadata": {},
   "outputs": [],
   "source": [
    "#Dropping NAs for the Score Breakdown column in order to continue with the filtering\n",
    "df = df[df['Score Breakdown'].notna()].reset_index(drop = True)\n",
    "\n",
    "#Creating an array for each value using the function mentioned above\n",
    "import numpy as np\n",
    "ma = np.zeros(shape = (len(df['Score Breakdown']), 7))\n",
    "\n",
    "for i in range(0,len(df['Score Breakdown'])):\n",
    "    \n",
    "    ar = df['Score Breakdown'][i].split(\";\")\n",
    "    ln = np.zeros(7)\n",
    "    for j in range(0,len(ar)):\n",
    "        k = ar[j][0:ar[j].index(':')]\n",
    "        value = ar[j][(ar[j].index(':')+1):(ar[j].index('of'))].strip()\n",
    "        ln[sorter(k)] = value\n",
    "    ma[i] = ln\n",
    "            "
   ]
  },
  {
   "cell_type": "code",
   "execution_count": null,
   "metadata": {},
   "outputs": [],
   "source": [
    "# converting the arrays created into columns by using the transpose function and deleting the Score Breakdown\n",
    "df['Value'] = pd.Series(np.transpose(ma)[0]).astype(int)\n",
    "df['Location'] = pd.Series(np.transpose(ma)[1]).astype(int)\n",
    "df['Sleep Quality'] = pd.Series(np.transpose(ma)[2]).astype(int)\n",
    "df['Rooms'] = pd.Series(np.transpose(ma)[3]).astype(int)\n",
    "df['Cleanliness'] = pd.Series(np.transpose(ma)[4]).astype(int)\n",
    "df['Service'] = pd.Series(np.transpose(ma)[5]).astype(int)\n",
    "del df['Score Breakdown']"
   ]
  },
  {
   "cell_type": "code",
   "execution_count": null,
   "metadata": {},
   "outputs": [],
   "source": [
    "#Checking for NAs\n",
    "df.info()"
   ]
  },
  {
   "cell_type": "markdown",
   "metadata": {},
   "source": [
    "#### Traveler Type Cleaning"
   ]
  },
  {
   "cell_type": "code",
   "execution_count": null,
   "metadata": {},
   "outputs": [],
   "source": [
    "u = df['Traveler Type'].str.partition()\n",
    "df['Traveler Type'] = pd.DataFrame({ 'Traveler Type': u[2].str.split().str[-1]})\n",
    "df['Traveler Type'].unique()"
   ]
  },
  {
   "cell_type": "code",
   "execution_count": null,
   "metadata": {},
   "outputs": [],
   "source": [
    "#Normalizing the Traveler Type\n",
    "df['Traveler Type'] = df['Traveler Type'].map({'solo': 1,'couple': 2,\\\n",
    "                                               'friends': 3,'family': 4, 'business': 5})"
   ]
  },
  {
   "cell_type": "code",
   "execution_count": null,
   "metadata": {},
   "outputs": [],
   "source": [
    "# Filling NAs randomly of Traveller Type since we do not want to remove more rows\n",
    "fill_list = [1,2,3,4,5]\n",
    "df['Traveler Type'] = df['Traveler Type'].fillna(pd.Series(np.random.choice(fill_list, size=len(df.index))))\n",
    "df['Traveler Type'] = df['Traveler Type'].astype(int)"
   ]
  },
  {
   "cell_type": "markdown",
   "metadata": {},
   "source": [
    "#### Price Range Cleaning"
   ]
  },
  {
   "cell_type": "code",
   "execution_count": null,
   "metadata": {},
   "outputs": [],
   "source": [
    "#Normalizing Price Range\n",
    "df['Price Range'] = df['Price Range'].map({'$': 1,'$$': 2,\\\n",
    "                                               '$$$': 3,'$$$$': 4})\n",
    "#Filling missing Values using the mean\n",
    "df['Price Range']=df['Price Range'].fillna(df['Price Range'].mean())\n"
   ]
  },
  {
   "cell_type": "markdown",
   "metadata": {},
   "source": [
    "#### Hotel ID Cleaning"
   ]
  },
  {
   "cell_type": "code",
   "execution_count": null,
   "metadata": {},
   "outputs": [],
   "source": [
    "#since we have 40 missing values in this column and the values are unique, we will drop the NAs\n",
    "df = df[df['Hotel ID'].notna()].reset_index(drop = True)\n",
    "#converting Hotel ID to int\n",
    "df['Hotel ID'] = df['Hotel ID'].astype(int)"
   ]
  },
  {
   "cell_type": "markdown",
   "metadata": {},
   "source": [
    "## EDA"
   ]
  },
  {
   "cell_type": "code",
   "execution_count": null,
   "metadata": {},
   "outputs": [],
   "source": [
    "#Grouping by Name(City) to get the top Hotels\n",
    "HotelCountPerCity = df.groupby(['Name']).agg({'Hotel ID':['count']})\n",
    "HotelCountPerCity.columns = ['Number of Hotels']\n",
    "print(\"Top 5 cities with most Hotels:\")\n",
    "HotelCountPerCity.sort_values(by=\"Number of Hotels\", ascending=False).head()"
   ]
  },
  {
   "cell_type": "markdown",
   "metadata": {},
   "source": [
    "#### Creating a new dataframe called MeanAndCount to analyze the different types of ratings. It contains:\n",
    "* `Count` \n",
    "* `Value_mean` \n",
    "* `Location_mean` \n",
    "* `Sleep Quality_mean`\n",
    "* `Rooms_mean` \n",
    "* `Cleanliness_mean` \n",
    "* `Service_mean` "
   ]
  },
  {
   "cell_type": "code",
   "execution_count": null,
   "metadata": {},
   "outputs": [],
   "source": [
    "#Grouping by Hotel ID \n",
    "MeanAndCount = df.groupby(['Hotel ID']).agg({'Hotel ID':['count'],'Value': ['mean'],'Location': ['mean'], 'Sleep Quality': ['mean'], 'Rooms': ['mean'],\\\n",
    "                              'Cleanliness': ['mean'],'Service': ['mean']})\n",
    "MeanAndCount.columns = ['Count','Value_mean','Location_mean', 'SleepQuality_mean', 'Rooms_mean','Cleanliness_mean','Service_mean']                \n",
    "MeanAndCount = MeanAndCount.reset_index()\n",
    "\n"
   ]
  },
  {
   "cell_type": "code",
   "execution_count": null,
   "metadata": {},
   "outputs": [],
   "source": [
    "# getting the Hotels with most reviews\n",
    "print(\"Top 5 Hotels with most counts:\")\n",
    "top = MeanAndCount.sort_values(by=\"Count\", ascending=False).head()\n",
    "top"
   ]
  },
  {
   "cell_type": "code",
   "execution_count": null,
   "metadata": {},
   "outputs": [],
   "source": [
    "\n",
    "top.plot(x=\"Hotel ID\", y=[\"Value_mean\", \"Location_mean\", \"SleepQuality_mean\", \"Rooms_mean\",\"Cleanliness_mean\",\\\n",
    "                          \"Service_mean\"], kind=\"bar\",legend=None, title = \"Top 5 hotels with most counts\")"
   ]
  },
  {
   "cell_type": "code",
   "execution_count": null,
   "metadata": {},
   "outputs": [],
   "source": [
    "# getting the Hotels with highest ratings keeping number of reviews > 10 \n",
    "print(\"Top 5 Hotels with highest Value ratings:\")\n",
    "MeanAndCount = MeanAndCount[MeanAndCount['Count'] >10]\n",
    "top_value = MeanAndCount.sort_values(by=\"Value_mean\", ascending=False).head()\n",
    "top_value"
   ]
  },
  {
   "cell_type": "markdown",
   "metadata": {},
   "source": [
    "#### Plotting top 5 hotels with highest mean of the six different categories"
   ]
  },
  {
   "cell_type": "code",
   "execution_count": null,
   "metadata": {
    "scrolled": true
   },
   "outputs": [],
   "source": [
    "# Increasing size of output window\n",
    "from IPython.core.display import display, HTML\n",
    "display(HTML(\"<style>div.output_scroll { height: 65em; }</style>\"))\n",
    "\n",
    "# keeping number of reviews > 10\n",
    "MeanAndCount = MeanAndCount[MeanAndCount['Count'] >10]\n",
    "\n",
    "top_value = MeanAndCount.sort_values(by=\"Value_mean\", ascending=False).head()\n",
    "top_sleepquality = MeanAndCount.sort_values(by=\"SleepQuality_mean\", ascending=False).head()\n",
    "top_location = MeanAndCount.sort_values(by=\"Location_mean\", ascending=False).head()\n",
    "top_rooms = MeanAndCount.sort_values(by=\"Rooms_mean\", ascending=False).head()\n",
    "top_cleanliness = MeanAndCount.sort_values(by=\"Cleanliness_mean\", ascending=False).head()\n",
    "top_service = MeanAndCount.sort_values(by=\"Service_mean\", ascending=False).head()\n",
    "\n",
    "\n",
    "from matplotlib import pyplot as plt\n",
    "\n",
    "fig, (ax1,ax2) = plt.subplots(1,2, figsize=(20,5))\n",
    "\n",
    "top_value.plot(x=\"Hotel ID\", y=[\"Value_mean\", \"Location_mean\", \"SleepQuality_mean\", \"Rooms_mean\",\"Cleanliness_mean\",\\\n",
    "                          \"Service_mean\"], kind=\"bar\", ax=ax1, title = \"Top 5 hotels with highest Value Ratings\")\n",
    "\n",
    "top_sleepquality.plot(x=\"Hotel ID\", y=[\"Value_mean\", \"Location_mean\", \"SleepQuality_mean\", \"Rooms_mean\",\"Cleanliness_mean\",\\\n",
    "                          \"Service_mean\"], kind=\"bar\",legend=None, ax=ax2, title = \"Top 5 hotels with highest Sleep Quality Ratings\")\n",
    "\n",
    "fig, (ax3,ax4) = plt.subplots(1,2, figsize=(20,5))\n",
    "\n",
    "top_location.plot(x=\"Hotel ID\", y=[\"Value_mean\", \"Location_mean\", \"SleepQuality_mean\", \"Rooms_mean\",\"Cleanliness_mean\",\\\n",
    "                          \"Service_mean\"], kind=\"bar\",legend=None, ax=ax3, title = \"Top 5 hotels with highest Location Ratings\")\n",
    "\n",
    "top_rooms.plot(x=\"Hotel ID\", y=[\"Value_mean\", \"Location_mean\", \"SleepQuality_mean\", \"Rooms_mean\",\"Cleanliness_mean\",\\\n",
    "                          \"Service_mean\"], kind=\"bar\",legend=None, ax=ax4, title = \"Top 5 hotels with highest Rooms Rating\")\n",
    "\n",
    "fig, (ax5,ax6) = plt.subplots(1,2, figsize=(20,5))\n",
    "\n",
    "top_cleanliness.plot(x=\"Hotel ID\", y=[\"Value_mean\", \"Location_mean\", \"SleepQuality_mean\", \"Rooms_mean\",\"Cleanliness_mean\",\\\n",
    "                          \"Service_mean\"], kind=\"bar\",legend=None, ax=ax5, title = \"Top 5 hotels with highest Cleanliness Ratings\")\n",
    "               \n",
    "top_service.plot(x=\"Hotel ID\", y=[\"Value_mean\", \"Location_mean\", \"SleepQuality_mean\", \"Rooms_mean\",\"Cleanliness_mean\",\\\n",
    "                          \"Service_mean\"], kind=\"bar\",legend=None, ax=ax6, title = \"Top 5 hotels with highest Service Ratings\")\n"
   ]
  },
  {
   "cell_type": "markdown",
   "metadata": {},
   "source": [
    "Looking at the graphs above and the Minimum and Maximum ratings below, we notice that Sleep Quality has always low ratings reaching a minimum of 1.5833 (not shown in the graphs). Hotel ID 16 has the highest Sleep Quality with a 4.17 compared to Hotel ID 17 with a 4.66 in Value ratings. Moreover, we can see that Cleanliness and Service have the two highest ratings in most graphs which that we will not have a lot of negative ratings that mention these two categories, they have a maximum rating of around 4.95 for both. However, this means that after doing the analysis, we should have a lot of negative comments that mention Sleep Quality, Rooms, Value."
   ]
  },
  {
   "cell_type": "code",
   "execution_count": null,
   "metadata": {},
   "outputs": [],
   "source": [
    "# Get a series containing maximum value of each rating column\n",
    "MeanAndCount1 = MeanAndCount\n",
    "del MeanAndCount1['Hotel ID']\n",
    "del MeanAndCount1['Count']\n",
    "maxRatings = MeanAndCount1.max()\n",
    " \n",
    "print('Maximum average of each rating category : ')\n",
    "print(maxRatings)"
   ]
  },
  {
   "cell_type": "code",
   "execution_count": null,
   "metadata": {},
   "outputs": [],
   "source": [
    "# Get a series containing minimum value of each rating column\n",
    "\n",
    "minRatings = MeanAndCount1.min()\n",
    " \n",
    "print('Minimum average of each rating category: ')\n",
    "print(minRatings)"
   ]
  },
  {
   "cell_type": "markdown",
   "metadata": {},
   "source": [
    "#### Plotting a time series of Year vs. Count"
   ]
  },
  {
   "cell_type": "code",
   "execution_count": null,
   "metadata": {},
   "outputs": [],
   "source": [
    "df['Review Date'].groupby([df['Review Date'].dt.year]).agg('count').plot(color = 'C2', kind=\"line\", title = \"Trend of comments from 2005 to 2014\")\n"
   ]
  },
  {
   "cell_type": "markdown",
   "metadata": {},
   "source": [
    "The trend shows an upward trend from 11 comments in 2005 reaching 1000 comments in 2013, an increase of  around 9000% in 8 years. This implies that nowadays we have millions of comments happening each day which means that an analyst working in the hotel management cannot track the comments except if it is automated in splitting comments into good or bad and giving advice to improve the work. This work is done using NLP and ML as shown further in this analysis"
   ]
  },
  {
   "cell_type": "markdown",
   "metadata": {},
   "source": [
    "#### How are ratings Distributed"
   ]
  },
  {
   "cell_type": "code",
   "execution_count": null,
   "metadata": {},
   "outputs": [],
   "source": [
    "\n",
    "# Plot ratings frequency\n",
    "plt.figure(figsize = [10,5])   # [width, height]\n",
    "\n",
    "x = list( df['Star Rating'].value_counts().index )\n",
    "y = list( df['Star Rating'].value_counts() )\n",
    "plt.barh(x, y)\n",
    "\n",
    "ticks_x = np.linspace(0, 3000, 6)   # (start, end, number of ticks)\n",
    "plt.xticks(ticks_x, fontsize=10, family='fantasy', color='black')\n",
    "plt.yticks( size=15 )\n",
    "\n",
    "plt.title('Distribution of Ratings', fontsize=20, weight='bold', color='navy', loc='center')\n",
    "plt.xlabel('Count', fontsize=15, weight='bold', color='navy')\n",
    "plt.ylabel('Ratings', fontsize=15, weight='bold', color='navy')\n",
    "plt.legend(['Reviewer Score'], shadow=True, loc=4)"
   ]
  }
 ],
 "metadata": {
  "kernelspec": {
   "display_name": "Python 3",
   "language": "python",
   "name": "python3"
  },
  "language_info": {
   "codemirror_mode": {
    "name": "ipython",
    "version": 3
   },
   "file_extension": ".py",
   "mimetype": "text/x-python",
   "name": "python",
   "nbconvert_exporter": "python",
   "pygments_lexer": "ipython3",
   "version": "3.7.4"
  }
 },
 "nbformat": 4,
 "nbformat_minor": 2
}
