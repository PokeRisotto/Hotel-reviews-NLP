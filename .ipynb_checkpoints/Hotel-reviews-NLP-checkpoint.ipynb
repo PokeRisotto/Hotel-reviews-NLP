{
 "cells": [
  {
   "cell_type": "markdown",
   "metadata": {},
   "source": [
    "# HOTEL REVIEWS NLP\n",
    "## Group E n"
   ]
  },
  {
   "cell_type": "code",
   "execution_count": 1,
   "metadata": {},
   "outputs": [],
   "source": [
    "import pandas as pd\n",
    "\n",
    "serie = pd.read_csv('Hotel reviews.csv')\n",
    "df = pd.DataFrame(serie)"
   ]
  },
  {
   "cell_type": "code",
   "execution_count": 2,
   "metadata": {},
   "outputs": [
    {
     "data": {
      "text/html": [
       "<div>\n",
       "<style scoped>\n",
       "    .dataframe tbody tr th:only-of-type {\n",
       "        vertical-align: middle;\n",
       "    }\n",
       "\n",
       "    .dataframe tbody tr th {\n",
       "        vertical-align: top;\n",
       "    }\n",
       "\n",
       "    .dataframe thead th {\n",
       "        text-align: right;\n",
       "    }\n",
       "</style>\n",
       "<table border=\"1\" class=\"dataframe\">\n",
       "  <thead>\n",
       "    <tr style=\"text-align: right;\">\n",
       "      <th></th>\n",
       "      <th>Review Date</th>\n",
       "      <th>Star Rating</th>\n",
       "      <th>Overview</th>\n",
       "      <th>Review</th>\n",
       "      <th>Traveler Type</th>\n",
       "      <th>Score Breakdown</th>\n",
       "      <th>Location</th>\n",
       "      <th>Reviewer Rank</th>\n",
       "      <th>Name</th>\n",
       "      <th>Price Range</th>\n",
       "      <th>Hotel ID</th>\n",
       "    </tr>\n",
       "  </thead>\n",
       "  <tbody>\n",
       "    <tr>\n",
       "      <td>0</td>\n",
       "      <td>28-Feb-11</td>\n",
       "      <td>5</td>\n",
       "      <td>Very nice atmosphere</td>\n",
       "      <td>We were together with some friends at the Anew...</td>\n",
       "      <td>traveled with family</td>\n",
       "      <td>Value: 5 of 5 stars; Location: 5 of 5 stars; S...</td>\n",
       "      <td>Skofja Loka, Slovenia</td>\n",
       "      <td>NaN</td>\n",
       "      <td>Villa Ottone</td>\n",
       "      <td>$$</td>\n",
       "      <td>25.0</td>\n",
       "    </tr>\n",
       "    <tr>\n",
       "      <td>1</td>\n",
       "      <td>21-Feb-10</td>\n",
       "      <td>4</td>\n",
       "      <td>Very nice food, great atmosphere, feels like...</td>\n",
       "      <td>Martin and his staff are truely great! They ma...</td>\n",
       "      <td>traveled with family</td>\n",
       "      <td>Value: 5 of 5 stars; Location: 3 of 5 stars; S...</td>\n",
       "      <td>Brussels</td>\n",
       "      <td>Contributor</td>\n",
       "      <td>Villa Ottone</td>\n",
       "      <td>$$</td>\n",
       "      <td>25.0</td>\n",
       "    </tr>\n",
       "    <tr>\n",
       "      <td>2</td>\n",
       "      <td>4 days ago NEW</td>\n",
       "      <td>5</td>\n",
       "      <td>Best Hotel on the Planet</td>\n",
       "      <td>We have stayed at the Excelsior on numerous oc...</td>\n",
       "      <td>traveled with family</td>\n",
       "      <td>Value: 5 of 5 stars; Sleep Quality: 5 of 5 sta...</td>\n",
       "      <td>Singapore, Singapore</td>\n",
       "      <td>Contributor</td>\n",
       "      <td>San Vigilio</td>\n",
       "      <td>$$$$</td>\n",
       "      <td>49.0</td>\n",
       "    </tr>\n",
       "    <tr>\n",
       "      <td>3</td>\n",
       "      <td>17-Sep-14</td>\n",
       "      <td>5</td>\n",
       "      <td>Fantastic</td>\n",
       "      <td>The great reviews are well deserved. Stayed he...</td>\n",
       "      <td>traveled as a couple</td>\n",
       "      <td>Location: 5 of 5 stars; Rooms: 5 of 5 stars; S...</td>\n",
       "      <td>Burlington, Canada</td>\n",
       "      <td>Senior Contributor</td>\n",
       "      <td>San Vigilio</td>\n",
       "      <td>$$$$</td>\n",
       "      <td>49.0</td>\n",
       "    </tr>\n",
       "    <tr>\n",
       "      <td>4</td>\n",
       "      <td>27-Jul-14</td>\n",
       "      <td>5</td>\n",
       "      <td>It is all true!</td>\n",
       "      <td>Not sure we can add anything to the accurate r...</td>\n",
       "      <td>traveled as a couple</td>\n",
       "      <td>Rooms: 5 of 5 stars; Cleanliness: 5 of 5 stars...</td>\n",
       "      <td>Manchester, United Kingdom</td>\n",
       "      <td>Senior Reviewer</td>\n",
       "      <td>San Vigilio</td>\n",
       "      <td>$$$$</td>\n",
       "      <td>49.0</td>\n",
       "    </tr>\n",
       "  </tbody>\n",
       "</table>\n",
       "</div>"
      ],
      "text/plain": [
       "      Review Date  Star Rating  \\\n",
       "0       28-Feb-11            5   \n",
       "1       21-Feb-10            4   \n",
       "2  4 days ago NEW            5   \n",
       "3       17-Sep-14            5   \n",
       "4       27-Jul-14            5   \n",
       "\n",
       "                                            Overview  \\\n",
       "0                             Very nice atmosphere     \n",
       "1    Very nice food, great atmosphere, feels like...   \n",
       "2                         Best Hotel on the Planet     \n",
       "3                                        Fantastic     \n",
       "4                                  It is all true!     \n",
       "\n",
       "                                              Review         Traveler Type  \\\n",
       "0  We were together with some friends at the Anew...  traveled with family   \n",
       "1  Martin and his staff are truely great! They ma...  traveled with family   \n",
       "2  We have stayed at the Excelsior on numerous oc...  traveled with family   \n",
       "3  The great reviews are well deserved. Stayed he...  traveled as a couple   \n",
       "4  Not sure we can add anything to the accurate r...  traveled as a couple   \n",
       "\n",
       "                                     Score Breakdown  \\\n",
       "0  Value: 5 of 5 stars; Location: 5 of 5 stars; S...   \n",
       "1  Value: 5 of 5 stars; Location: 3 of 5 stars; S...   \n",
       "2  Value: 5 of 5 stars; Sleep Quality: 5 of 5 sta...   \n",
       "3  Location: 5 of 5 stars; Rooms: 5 of 5 stars; S...   \n",
       "4  Rooms: 5 of 5 stars; Cleanliness: 5 of 5 stars...   \n",
       "\n",
       "                     Location       Reviewer Rank          Name Price Range  \\\n",
       "0       Skofja Loka, Slovenia                 NaN  Villa Ottone          $$   \n",
       "1                    Brussels         Contributor  Villa Ottone          $$   \n",
       "2        Singapore, Singapore         Contributor   San Vigilio        $$$$   \n",
       "3          Burlington, Canada  Senior Contributor   San Vigilio        $$$$   \n",
       "4  Manchester, United Kingdom     Senior Reviewer   San Vigilio        $$$$   \n",
       "\n",
       "   Hotel ID  \n",
       "0      25.0  \n",
       "1      25.0  \n",
       "2      49.0  \n",
       "3      49.0  \n",
       "4      49.0  "
      ]
     },
     "execution_count": 2,
     "metadata": {},
     "output_type": "execute_result"
    }
   ],
   "source": [
    "# Keeping only the hotels for our business purpose\n",
    "df = df[df['Establishment Type'] == 'Hotel']\n",
    "del df['Establishment Type']\n",
    "df.head()"
   ]
  },
  {
   "cell_type": "markdown",
   "metadata": {},
   "source": [
    "#### Date Cleaning"
   ]
  },
  {
   "cell_type": "code",
   "execution_count": 3,
   "metadata": {},
   "outputs": [],
   "source": [
    "df = df[~df['Review Date'].str.contains(\"ago\")]\n",
    "df = df[~df['Review Date'].str.contains(\"NEW\")]\n",
    "df = df.reset_index(drop = True)\n",
    "df['Review Date'] = pd.to_datetime(df['Review Date'])"
   ]
  },
  {
   "cell_type": "code",
   "execution_count": 4,
   "metadata": {},
   "outputs": [
    {
     "data": {
      "text/plain": [
       "Review Date        datetime64[ns]\n",
       "Star Rating                 int64\n",
       "Overview                   object\n",
       "Review                     object\n",
       "Traveler Type              object\n",
       "Score Breakdown            object\n",
       "Location                   object\n",
       "Reviewer Rank              object\n",
       "Name                       object\n",
       "Price Range                object\n",
       "Hotel ID                  float64\n",
       "dtype: object"
      ]
     },
     "execution_count": 4,
     "metadata": {},
     "output_type": "execute_result"
    }
   ],
   "source": [
    "#Checking types of columns\n",
    "df.dtypes"
   ]
  },
  {
   "cell_type": "markdown",
   "metadata": {},
   "source": [
    "#### Location Cleaning"
   ]
  },
  {
   "cell_type": "code",
   "execution_count": 5,
   "metadata": {},
   "outputs": [
    {
     "name": "stderr",
     "output_type": "stream",
     "text": [
      "/opt/anaconda3/lib/python3.7/site-packages/ipykernel_launcher.py:2: SettingWithCopyWarning: \n",
      "A value is trying to be set on a copy of a slice from a DataFrame\n",
      "\n",
      "See the caveats in the documentation: http://pandas.pydata.org/pandas-docs/stable/user_guide/indexing.html#returning-a-view-versus-a-copy\n",
      "  \n"
     ]
    }
   ],
   "source": [
    "#Assigning a NULL to the empty cell, without doing it it is difficult to work on this column of lists\n",
    "df.Location[df.Location.isnull() == True] = 'NULL' \n",
    "df.Location = df.Location.str.split(\", \")"
   ]
  },
  {
   "cell_type": "code",
   "execution_count": 6,
   "metadata": {
    "scrolled": false
   },
   "outputs": [
    {
     "name": "stderr",
     "output_type": "stream",
     "text": [
      "/opt/anaconda3/lib/python3.7/site-packages/ipykernel_launcher.py:3: SettingWithCopyWarning: \n",
      "A value is trying to be set on a copy of a slice from a DataFrame\n",
      "\n",
      "See the caveats in the documentation: http://pandas.pydata.org/pandas-docs/stable/user_guide/indexing.html#returning-a-view-versus-a-copy\n",
      "  This is separate from the ipykernel package so we can avoid doing imports until\n"
     ]
    }
   ],
   "source": [
    "# Creating a column just with the city and not the country because we have a lot of missing values for the country so is relevant to save only the city\n",
    "for i in range(0,len(df)):\n",
    "        df.Location[i] = df.Location[i][0]\n",
    "        "
   ]
  },
  {
   "cell_type": "markdown",
   "metadata": {},
   "source": [
    "#### Reviewer Rank Cleaning"
   ]
  },
  {
   "cell_type": "code",
   "execution_count": 7,
   "metadata": {},
   "outputs": [],
   "source": [
    "#Normalizing Review Rank but replacing NAs with Contributor \n",
    "df['Reviewer Rank'].fillna('Contributor', inplace=True)\n",
    "df['Reviewer Rank'] = df['Reviewer Rank'].map({'Contributor': 1,'Reviewer': 2,\\\n",
    "                                               'Senior Contributor': 3,'Senior Reviewer': 4, 'Top Contributor': 5}).astype(int)"
   ]
  },
  {
   "cell_type": "markdown",
   "metadata": {},
   "source": [
    "#### Expanding the Score Breakdown into 6 different columns: \n",
    "* `Value` \n",
    "* `Location` \n",
    "* `Sleep Quality`\n",
    "* `Rooms` \n",
    "* `Cleanliness` \n",
    "* `Service` "
   ]
  },
  {
   "cell_type": "code",
   "execution_count": 8,
   "metadata": {},
   "outputs": [],
   "source": [
    "## creating a function to use in the below for loop\n",
    "def sorter(text):\n",
    "    text = text.strip()\n",
    "    if text == \"Value\":\n",
    "        return 0\n",
    "    elif text == \"Location\":\n",
    "        return 1\n",
    "    elif text == \"Sleep Quality\":\n",
    "        return 2\n",
    "    elif text == \"Rooms\":\n",
    "        return 3\n",
    "    elif text == \"Cleanliness\":\n",
    "        return 4\n",
    "    elif text == \"Service\":\n",
    "        return 5\n",
    "    else:\n",
    "        return 6\n",
    "    "
   ]
  },
  {
   "cell_type": "code",
   "execution_count": 9,
   "metadata": {},
   "outputs": [],
   "source": [
    "#Dropping NAs for the Score Breakdown column in order to continue with the filtering\n",
    "df = df[df['Score Breakdown'].notna()].reset_index(drop = True)\n",
    "\n",
    "#Creating an array for each value using the function mentioned above\n",
    "import numpy as np\n",
    "ma = np.zeros(shape = (len(df['Score Breakdown']), 7))\n",
    "\n",
    "for i in range(0,len(df['Score Breakdown'])):\n",
    "    \n",
    "    ar = df['Score Breakdown'][i].split(\";\")\n",
    "    ln = np.zeros(7)\n",
    "    for j in range(0,len(ar)):\n",
    "        k = ar[j][0:ar[j].index(':')]\n",
    "        value = ar[j][(ar[j].index(':')+1):(ar[j].index('of'))].strip()\n",
    "        ln[sorter(k)] = value\n",
    "    ma[i] = ln\n",
    "            "
   ]
  },
  {
   "cell_type": "code",
   "execution_count": 10,
   "metadata": {},
   "outputs": [],
   "source": [
    "# converting the arrays created into columns by using the transpose function and deleting the Score Breakdown\n",
    "df['Value'] = pd.Series(np.transpose(ma)[0]).astype(int)\n",
    "df['Location'] = pd.Series(np.transpose(ma)[1]).astype(int)\n",
    "df['Sleep Quality'] = pd.Series(np.transpose(ma)[2]).astype(int)\n",
    "df['Rooms'] = pd.Series(np.transpose(ma)[3]).astype(int)\n",
    "df['Cleanliness'] = pd.Series(np.transpose(ma)[4]).astype(int)\n",
    "df['Service'] = pd.Series(np.transpose(ma)[5]).astype(int)\n",
    "del df['Score Breakdown']"
   ]
  },
  {
   "cell_type": "code",
   "execution_count": 11,
   "metadata": {},
   "outputs": [
    {
     "name": "stdout",
     "output_type": "stream",
     "text": [
      "<class 'pandas.core.frame.DataFrame'>\n",
      "RangeIndex: 4059 entries, 0 to 4058\n",
      "Data columns (total 15 columns):\n",
      "Review Date      4059 non-null datetime64[ns]\n",
      "Star Rating      4059 non-null int64\n",
      "Overview         4059 non-null object\n",
      "Review           4059 non-null object\n",
      "Traveler Type    3771 non-null object\n",
      "Location         4059 non-null int64\n",
      "Reviewer Rank    4059 non-null int64\n",
      "Name             4059 non-null object\n",
      "Price Range      3761 non-null object\n",
      "Hotel ID         4019 non-null float64\n",
      "Value            4059 non-null int64\n",
      "Sleep Quality    4059 non-null int64\n",
      "Rooms            4059 non-null int64\n",
      "Cleanliness      4059 non-null int64\n",
      "Service          4059 non-null int64\n",
      "dtypes: datetime64[ns](1), float64(1), int64(8), object(5)\n",
      "memory usage: 475.8+ KB\n"
     ]
    }
   ],
   "source": [
    "#Checking for NAs\n",
    "df.info()"
   ]
  },
  {
   "cell_type": "markdown",
   "metadata": {},
   "source": [
    "#### Traveler Type Cleaning"
   ]
  },
  {
   "cell_type": "code",
   "execution_count": 12,
   "metadata": {},
   "outputs": [
    {
     "data": {
      "text/plain": [
       "array(['family', 'couple', 'friends', 'solo', 'business', nan],\n",
       "      dtype=object)"
      ]
     },
     "execution_count": 12,
     "metadata": {},
     "output_type": "execute_result"
    }
   ],
   "source": [
    "u = df['Traveler Type'].str.partition()\n",
    "df['Traveler Type'] = pd.DataFrame({ 'Traveler Type': u[2].str.split().str[-1]})\n",
    "df['Traveler Type'].unique()"
   ]
  },
  {
   "cell_type": "code",
   "execution_count": 13,
   "metadata": {},
   "outputs": [],
   "source": [
    "#Normalizing the Traveler Type\n",
    "df['Traveler Type'] = df['Traveler Type'].map({'solo': 1,'couple': 2,\\\n",
    "                                               'friends': 3,'family': 4, 'business': 5})"
   ]
  },
  {
   "cell_type": "code",
   "execution_count": 14,
   "metadata": {},
   "outputs": [],
   "source": [
    "# Filling NAs randomly of Traveller Type since we do not want to remove more rows\n",
    "fill_list = [1,2,3,4,5]\n",
    "df['Traveler Type'] = df['Traveler Type'].fillna(pd.Series(np.random.choice(fill_list, size=len(df.index))))\n",
    "df['Traveler Type'] = df['Traveler Type'].astype(int)"
   ]
  },
  {
   "cell_type": "markdown",
   "metadata": {},
   "source": [
    "#### Price Range Cleaning"
   ]
  },
  {
   "cell_type": "code",
   "execution_count": 15,
   "metadata": {},
   "outputs": [],
   "source": [
    "#Normalizing Price Range\n",
    "df['Price Range'] = df['Price Range'].map({'$': 1,'$$': 2,\\\n",
    "                                               '$$$': 3,'$$$$': 4})\n",
    "#Filling missing Values using the mean\n",
    "df['Price Range']=df['Price Range'].fillna(df['Price Range'].mean())\n"
   ]
  },
  {
   "cell_type": "markdown",
   "metadata": {},
   "source": [
    "#### Hotel ID Cleaning"
   ]
  },
  {
   "cell_type": "code",
   "execution_count": 16,
   "metadata": {},
   "outputs": [],
   "source": [
    "#since we have 40 missing values in this column and the values are unique, we will drop the NAs\n",
    "df = df[df['Hotel ID'].notna()].reset_index(drop = True)\n",
    "#converting Hotel ID to int\n",
    "df['Hotel ID'] = df['Hotel ID'].astype(int)"
   ]
  },
  {
   "cell_type": "markdown",
   "metadata": {},
   "source": [
    "## EDA"
   ]
  },
  {
   "cell_type": "code",
   "execution_count": 17,
   "metadata": {},
   "outputs": [
    {
     "name": "stdout",
     "output_type": "stream",
     "text": [
      "Top 5 cities with most Hotels:\n"
     ]
    },
    {
     "data": {
      "text/html": [
       "<div>\n",
       "<style scoped>\n",
       "    .dataframe tbody tr th:only-of-type {\n",
       "        vertical-align: middle;\n",
       "    }\n",
       "\n",
       "    .dataframe tbody tr th {\n",
       "        vertical-align: top;\n",
       "    }\n",
       "\n",
       "    .dataframe thead th {\n",
       "        text-align: right;\n",
       "    }\n",
       "</style>\n",
       "<table border=\"1\" class=\"dataframe\">\n",
       "  <thead>\n",
       "    <tr style=\"text-align: right;\">\n",
       "      <th></th>\n",
       "      <th>Number of Hotels</th>\n",
       "    </tr>\n",
       "    <tr>\n",
       "      <th>Name</th>\n",
       "      <th></th>\n",
       "    </tr>\n",
       "  </thead>\n",
       "  <tbody>\n",
       "    <tr>\n",
       "      <td>Bolzano</td>\n",
       "      <td>803</td>\n",
       "    </tr>\n",
       "    <tr>\n",
       "      <td>Castelrotto</td>\n",
       "      <td>393</td>\n",
       "    </tr>\n",
       "    <tr>\n",
       "      <td>Ortisei</td>\n",
       "      <td>375</td>\n",
       "    </tr>\n",
       "    <tr>\n",
       "      <td>Corvara in Badia</td>\n",
       "      <td>297</td>\n",
       "    </tr>\n",
       "    <tr>\n",
       "      <td>Sesto</td>\n",
       "      <td>161</td>\n",
       "    </tr>\n",
       "  </tbody>\n",
       "</table>\n",
       "</div>"
      ],
      "text/plain": [
       "                  Number of Hotels\n",
       "Name                              \n",
       "Bolzano                        803\n",
       "Castelrotto                    393\n",
       "Ortisei                        375\n",
       "Corvara in Badia               297\n",
       "Sesto                          161"
      ]
     },
     "execution_count": 17,
     "metadata": {},
     "output_type": "execute_result"
    }
   ],
   "source": [
    "#Grouping by Name(City) to get the top Hotels\n",
    "HotelCountPerCity = df.groupby(['Name']).agg({'Hotel ID':['count']})\n",
    "HotelCountPerCity.columns = ['Number of Hotels']\n",
    "print(\"Top 5 cities with most Hotels:\")\n",
    "HotelCountPerCity.sort_values(by=\"Number of Hotels\", ascending=False).head()"
   ]
  },
  {
   "cell_type": "markdown",
   "metadata": {},
   "source": [
    "#### Creating a new dataframe called MeanAndCount to analyze the different types of ratings. It contains:\n",
    "* `Count` \n",
    "* `Value_mean` \n",
    "* `Location_mean` \n",
    "* `Sleep Quality_mean`\n",
    "* `Rooms_mean` \n",
    "* `Cleanliness_mean` \n",
    "* `Service_mean` "
   ]
  },
  {
   "cell_type": "code",
   "execution_count": 18,
   "metadata": {},
   "outputs": [],
   "source": [
    "#Grouping by Hotel ID \n",
    "MeanAndCount = df.groupby(['Hotel ID']).agg({'Hotel ID':['count'],'Value': ['mean'],'Location': ['mean'], 'Sleep Quality': ['mean'], 'Rooms': ['mean'],\\\n",
    "                              'Cleanliness': ['mean'],'Service': ['mean']})\n",
    "MeanAndCount.columns = ['Count','Value_mean','Location_mean', 'SleepQuality_mean', 'Rooms_mean','Cleanliness_mean','Service_mean']                \n",
    "MeanAndCount = MeanAndCount.reset_index()\n",
    "\n"
   ]
  },
  {
   "cell_type": "code",
   "execution_count": 19,
   "metadata": {},
   "outputs": [
    {
     "name": "stdout",
     "output_type": "stream",
     "text": [
      "Top 5 Hotels with most counts:\n"
     ]
    },
    {
     "data": {
      "text/html": [
       "<div>\n",
       "<style scoped>\n",
       "    .dataframe tbody tr th:only-of-type {\n",
       "        vertical-align: middle;\n",
       "    }\n",
       "\n",
       "    .dataframe tbody tr th {\n",
       "        vertical-align: top;\n",
       "    }\n",
       "\n",
       "    .dataframe thead th {\n",
       "        text-align: right;\n",
       "    }\n",
       "</style>\n",
       "<table border=\"1\" class=\"dataframe\">\n",
       "  <thead>\n",
       "    <tr style=\"text-align: right;\">\n",
       "      <th></th>\n",
       "      <th>Hotel ID</th>\n",
       "      <th>Count</th>\n",
       "      <th>Value_mean</th>\n",
       "      <th>Location_mean</th>\n",
       "      <th>SleepQuality_mean</th>\n",
       "      <th>Rooms_mean</th>\n",
       "      <th>Cleanliness_mean</th>\n",
       "      <th>Service_mean</th>\n",
       "    </tr>\n",
       "  </thead>\n",
       "  <tbody>\n",
       "    <tr>\n",
       "      <td>47</td>\n",
       "      <td>50</td>\n",
       "      <td>240</td>\n",
       "      <td>4.112500</td>\n",
       "      <td>4.091667</td>\n",
       "      <td>3.712500</td>\n",
       "      <td>3.987500</td>\n",
       "      <td>4.508333</td>\n",
       "      <td>4.708333</td>\n",
       "    </tr>\n",
       "    <tr>\n",
       "      <td>15</td>\n",
       "      <td>18</td>\n",
       "      <td>185</td>\n",
       "      <td>4.432432</td>\n",
       "      <td>4.372973</td>\n",
       "      <td>3.210811</td>\n",
       "      <td>4.264865</td>\n",
       "      <td>4.675676</td>\n",
       "      <td>4.800000</td>\n",
       "    </tr>\n",
       "    <tr>\n",
       "      <td>72</td>\n",
       "      <td>100</td>\n",
       "      <td>184</td>\n",
       "      <td>4.021739</td>\n",
       "      <td>4.478261</td>\n",
       "      <td>3.494565</td>\n",
       "      <td>4.347826</td>\n",
       "      <td>4.445652</td>\n",
       "      <td>4.478261</td>\n",
       "    </tr>\n",
       "    <tr>\n",
       "      <td>9</td>\n",
       "      <td>12</td>\n",
       "      <td>183</td>\n",
       "      <td>4.502732</td>\n",
       "      <td>4.180328</td>\n",
       "      <td>3.710383</td>\n",
       "      <td>4.021858</td>\n",
       "      <td>4.491803</td>\n",
       "      <td>4.765027</td>\n",
       "    </tr>\n",
       "    <tr>\n",
       "      <td>27</td>\n",
       "      <td>30</td>\n",
       "      <td>167</td>\n",
       "      <td>4.011976</td>\n",
       "      <td>4.011976</td>\n",
       "      <td>3.479042</td>\n",
       "      <td>3.952096</td>\n",
       "      <td>4.347305</td>\n",
       "      <td>4.646707</td>\n",
       "    </tr>\n",
       "  </tbody>\n",
       "</table>\n",
       "</div>"
      ],
      "text/plain": [
       "    Hotel ID  Count  Value_mean  Location_mean  SleepQuality_mean  Rooms_mean  \\\n",
       "47        50    240    4.112500       4.091667           3.712500    3.987500   \n",
       "15        18    185    4.432432       4.372973           3.210811    4.264865   \n",
       "72       100    184    4.021739       4.478261           3.494565    4.347826   \n",
       "9         12    183    4.502732       4.180328           3.710383    4.021858   \n",
       "27        30    167    4.011976       4.011976           3.479042    3.952096   \n",
       "\n",
       "    Cleanliness_mean  Service_mean  \n",
       "47          4.508333      4.708333  \n",
       "15          4.675676      4.800000  \n",
       "72          4.445652      4.478261  \n",
       "9           4.491803      4.765027  \n",
       "27          4.347305      4.646707  "
      ]
     },
     "execution_count": 19,
     "metadata": {},
     "output_type": "execute_result"
    }
   ],
   "source": [
    "# getting the Hotels with most reviews\n",
    "print(\"Top 5 Hotels with most counts:\")\n",
    "top = MeanAndCount.sort_values(by=\"Count\", ascending=False).head()\n",
    "top"
   ]
  },
  {
   "cell_type": "code",
   "execution_count": 20,
   "metadata": {},
   "outputs": [
    {
     "data": {
      "text/plain": [
       "<matplotlib.axes._subplots.AxesSubplot at 0x11b552850>"
      ]
     },
     "execution_count": 20,
     "metadata": {},
     "output_type": "execute_result"
    }
   ],
   "source": [
    "\n",
    "top.plot(x=\"Hotel ID\", y=[\"Value_mean\", \"Location_mean\", \"SleepQuality_mean\", \"Rooms_mean\",\"Cleanliness_mean\",\\\n",
    "                          \"Service_mean\"], kind=\"bar\",legend=None, title = \"Top 5 hotels with most counts\")"
   ]
  },
  {
   "cell_type": "code",
   "execution_count": 21,
   "metadata": {},
   "outputs": [
    {
     "name": "stdout",
     "output_type": "stream",
     "text": [
      "Top 5 Hotels with highest Value ratings:\n"
     ]
    },
    {
     "data": {
      "text/html": [
       "<div>\n",
       "<style scoped>\n",
       "    .dataframe tbody tr th:only-of-type {\n",
       "        vertical-align: middle;\n",
       "    }\n",
       "\n",
       "    .dataframe tbody tr th {\n",
       "        vertical-align: top;\n",
       "    }\n",
       "\n",
       "    .dataframe thead th {\n",
       "        text-align: right;\n",
       "    }\n",
       "</style>\n",
       "<table border=\"1\" class=\"dataframe\">\n",
       "  <thead>\n",
       "    <tr style=\"text-align: right;\">\n",
       "      <th></th>\n",
       "      <th>Hotel ID</th>\n",
       "      <th>Count</th>\n",
       "      <th>Value_mean</th>\n",
       "      <th>Location_mean</th>\n",
       "      <th>SleepQuality_mean</th>\n",
       "      <th>Rooms_mean</th>\n",
       "      <th>Cleanliness_mean</th>\n",
       "      <th>Service_mean</th>\n",
       "    </tr>\n",
       "  </thead>\n",
       "  <tbody>\n",
       "    <tr>\n",
       "      <td>14</td>\n",
       "      <td>17</td>\n",
       "      <td>24</td>\n",
       "      <td>4.666667</td>\n",
       "      <td>3.958333</td>\n",
       "      <td>3.000000</td>\n",
       "      <td>3.500000</td>\n",
       "      <td>4.291667</td>\n",
       "      <td>4.791667</td>\n",
       "    </tr>\n",
       "    <tr>\n",
       "      <td>9</td>\n",
       "      <td>12</td>\n",
       "      <td>183</td>\n",
       "      <td>4.502732</td>\n",
       "      <td>4.180328</td>\n",
       "      <td>3.710383</td>\n",
       "      <td>4.021858</td>\n",
       "      <td>4.491803</td>\n",
       "      <td>4.765027</td>\n",
       "    </tr>\n",
       "    <tr>\n",
       "      <td>18</td>\n",
       "      <td>21</td>\n",
       "      <td>50</td>\n",
       "      <td>4.480000</td>\n",
       "      <td>3.940000</td>\n",
       "      <td>3.140000</td>\n",
       "      <td>3.880000</td>\n",
       "      <td>4.440000</td>\n",
       "      <td>4.660000</td>\n",
       "    </tr>\n",
       "    <tr>\n",
       "      <td>2</td>\n",
       "      <td>4</td>\n",
       "      <td>17</td>\n",
       "      <td>4.470588</td>\n",
       "      <td>4.235294</td>\n",
       "      <td>3.000000</td>\n",
       "      <td>3.411765</td>\n",
       "      <td>4.235294</td>\n",
       "      <td>4.588235</td>\n",
       "    </tr>\n",
       "    <tr>\n",
       "      <td>49</td>\n",
       "      <td>52</td>\n",
       "      <td>15</td>\n",
       "      <td>4.466667</td>\n",
       "      <td>3.533333</td>\n",
       "      <td>3.066667</td>\n",
       "      <td>3.466667</td>\n",
       "      <td>4.733333</td>\n",
       "      <td>4.333333</td>\n",
       "    </tr>\n",
       "  </tbody>\n",
       "</table>\n",
       "</div>"
      ],
      "text/plain": [
       "    Hotel ID  Count  Value_mean  Location_mean  SleepQuality_mean  Rooms_mean  \\\n",
       "14        17     24    4.666667       3.958333           3.000000    3.500000   \n",
       "9         12    183    4.502732       4.180328           3.710383    4.021858   \n",
       "18        21     50    4.480000       3.940000           3.140000    3.880000   \n",
       "2          4     17    4.470588       4.235294           3.000000    3.411765   \n",
       "49        52     15    4.466667       3.533333           3.066667    3.466667   \n",
       "\n",
       "    Cleanliness_mean  Service_mean  \n",
       "14          4.291667      4.791667  \n",
       "9           4.491803      4.765027  \n",
       "18          4.440000      4.660000  \n",
       "2           4.235294      4.588235  \n",
       "49          4.733333      4.333333  "
      ]
     },
     "execution_count": 21,
     "metadata": {},
     "output_type": "execute_result"
    }
   ],
   "source": [
    "# getting the Hotels with highest ratings keeping number of reviews > 10 \n",
    "print(\"Top 5 Hotels with highest Value ratings:\")\n",
    "MeanAndCount = MeanAndCount[MeanAndCount['Count'] >10]\n",
    "top_value = MeanAndCount.sort_values(by=\"Value_mean\", ascending=False).head()\n",
    "top_value"
   ]
  },
  {
   "cell_type": "markdown",
   "metadata": {},
   "source": [
    "#### Plotting top 5 hotels with highest mean of the six different categories"
   ]
  },
  {
   "cell_type": "code",
   "execution_count": 22,
   "metadata": {
    "scrolled": true
   },
   "outputs": [
    {
     "data": {
      "text/html": [
       "<style>div.output_scroll { height: 60em; }</style>"
      ],
      "text/plain": [
       "<IPython.core.display.HTML object>"
      ]
     },
     "metadata": {},
     "output_type": "display_data"
    },
    {
     "data": {
      "text/plain": [
       "<matplotlib.axes._subplots.AxesSubplot at 0x11ae53dd0>"
      ]
     },
     "execution_count": 22,
     "metadata": {},
     "output_type": "execute_result"
    },
    {
     "data": {
      "image/png": "[encoded data removed]",
      "text/plain": [
       "<Figure size 1440x360 with 2 Axes>"
      ]
     },
     "metadata": {
      "needs_background": "light"
     },
     "output_type": "display_data"
    },
    {
     "data": {
      "image/png": "[encoded data removed]",
      "text/plain": [
       "<Figure size 1440x360 with 2 Axes>"
      ]
     },
     "metadata": {
      "needs_background": "light"
     },
     "output_type": "display_data"
    },
    {
     "data": {
      "image/png": "[encoded data removed]",
      "text/plain": [
       "<Figure size 1440x360 with 2 Axes>"
      ]
     },
     "metadata": {
      "needs_background": "light"
     },
     "output_type": "display_data"
    }
   ],
   "source": [
    "# Increasing size of output window\n",
    "from IPython.core.display import display, HTML\n",
    "display(HTML(\"<style>div.output_scroll { height: 65em; }</style>\"))\n",
    "\n",
    "# keeping number of reviews > 10\n",
    "MeanAndCount = MeanAndCount[MeanAndCount['Count'] >10]\n",
    "\n",
    "top_value = MeanAndCount.sort_values(by=\"Value_mean\", ascending=False).head()\n",
    "top_sleepquality = MeanAndCount.sort_values(by=\"SleepQuality_mean\", ascending=False).head()\n",
    "top_location = MeanAndCount.sort_values(by=\"Location_mean\", ascending=False).head()\n",
    "top_rooms = MeanAndCount.sort_values(by=\"Rooms_mean\", ascending=False).head()\n",
    "top_cleanliness = MeanAndCount.sort_values(by=\"Cleanliness_mean\", ascending=False).head()\n",
    "top_service = MeanAndCount.sort_values(by=\"Service_mean\", ascending=False).head()\n",
    "\n",
    "\n",
    "from matplotlib import pyplot as plt\n",
    "\n",
    "fig, (ax1,ax2) = plt.subplots(1,2, figsize=(20,5))\n",
    "\n",
    "top_value.plot(x=\"Hotel ID\", y=[\"Value_mean\", \"Location_mean\", \"SleepQuality_mean\", \"Rooms_mean\",\"Cleanliness_mean\",\\\n",
    "                          \"Service_mean\"], kind=\"bar\", ax=ax1, title = \"Top 5 hotels with highest Value Ratings\")\n",
    "\n",
    "top_sleepquality.plot(x=\"Hotel ID\", y=[\"Value_mean\", \"Location_mean\", \"SleepQuality_mean\", \"Rooms_mean\",\"Cleanliness_mean\",\\\n",
    "                          \"Service_mean\"], kind=\"bar\",legend=None, ax=ax2, title = \"Top 5 hotels with highest Sleep Quality Ratings\")\n",
    "\n",
    "fig, (ax3,ax4) = plt.subplots(1,2, figsize=(20,5))\n",
    "\n",
    "top_location.plot(x=\"Hotel ID\", y=[\"Value_mean\", \"Location_mean\", \"SleepQuality_mean\", \"Rooms_mean\",\"Cleanliness_mean\",\\\n",
    "                          \"Service_mean\"], kind=\"bar\",legend=None, ax=ax3, title = \"Top 5 hotels with highest Location Ratings\")\n",
    "\n",
    "top_rooms.plot(x=\"Hotel ID\", y=[\"Value_mean\", \"Location_mean\", \"SleepQuality_mean\", \"Rooms_mean\",\"Cleanliness_mean\",\\\n",
    "                          \"Service_mean\"], kind=\"bar\",legend=None, ax=ax4, title = \"Top 5 hotels with highest Rooms Rating\")\n",
    "\n",
    "fig, (ax5,ax6) = plt.subplots(1,2, figsize=(20,5))\n",
    "\n",
    "top_cleanliness.plot(x=\"Hotel ID\", y=[\"Value_mean\", \"Location_mean\", \"SleepQuality_mean\", \"Rooms_mean\",\"Cleanliness_mean\",\\\n",
    "                          \"Service_mean\"], kind=\"bar\",legend=None, ax=ax5, title = \"Top 5 hotels with highest Cleanliness Ratings\")\n",
    "               \n",
    "top_service.plot(x=\"Hotel ID\", y=[\"Value_mean\", \"Location_mean\", \"SleepQuality_mean\", \"Rooms_mean\",\"Cleanliness_mean\",\\\n",
    "                          \"Service_mean\"], kind=\"bar\",legend=None, ax=ax6, title = \"Top 5 hotels with highest Service Ratings\")\n"
   ]
  },
  {
   "cell_type": "markdown",
   "metadata": {},
   "source": [
    "Looking at the graphs above and the Minimum and Maximum ratings below, we notice that Sleep Quality has always low ratings reaching a minimum of 1.5833 (not shown in the graphs). Hotel ID 16 has the highest Sleep Quality with a 4.17 compared to Hotel ID 17 with a 4.66 in Value ratings. Moreover, we can see that Cleanliness and Service have the two highest ratings in most graphs which that we will not have a lot of negative ratings that mention these two categories, they have a maximum rating of around 4.95 for both. However, this means that after doing the analysis, we should have a lot of negative comments that mention Sleep Quality, Rooms, Value."
   ]
  },
  {
   "cell_type": "code",
   "execution_count": 23,
   "metadata": {},
   "outputs": [
    {
     "name": "stdout",
     "output_type": "stream",
     "text": [
      "Maximum average of each rating category : \n",
      "Value_mean           4.666667\n",
      "Location_mean        4.478261\n",
      "SleepQuality_mean    4.173913\n",
      "Rooms_mean           4.461538\n",
      "Cleanliness_mean     4.950000\n",
      "Service_mean         4.944954\n",
      "dtype: float64\n"
     ]
    }
   ],
   "source": [
    "# Get a series containing maximum value of each rating column\n",
    "MeanAndCount1 = MeanAndCount\n",
    "del MeanAndCount1['Hotel ID']\n",
    "del MeanAndCount1['Count']\n",
    "maxRatings = MeanAndCount1.max()\n",
    " \n",
    "print('Maximum average of each rating category : ')\n",
    "print(maxRatings)"
   ]
  },
  {
   "cell_type": "code",
   "execution_count": 24,
   "metadata": {},
   "outputs": [
    {
     "name": "stdout",
     "output_type": "stream",
     "text": [
      "Minimum average of each rating category: \n",
      "Value_mean           3.301887\n",
      "Location_mean        2.400000\n",
      "SleepQuality_mean    1.583333\n",
      "Rooms_mean           2.933333\n",
      "Cleanliness_mean     3.650000\n",
      "Service_mean         3.700000\n",
      "dtype: float64\n"
     ]
    }
   ],
   "source": [
    "# Get a series containing minimum value of each rating column\n",
    "\n",
    "minRatings = MeanAndCount1.min()\n",
    " \n",
    "print('Minimum average of each rating category: ')\n",
    "print(minRatings)"
   ]
  },
  {
   "cell_type": "markdown",
   "metadata": {},
   "source": [
    "#### Plotting a time series of Year vs. Count"
   ]
  },
  {
   "cell_type": "code",
   "execution_count": 25,
   "metadata": {},
   "outputs": [
    {
     "data": {
      "text/plain": [
       "<matplotlib.axes._subplots.AxesSubplot at 0x11aaaf310>"
      ]
     },
     "execution_count": 25,
     "metadata": {},
     "output_type": "execute_result"
    },
    {
     "data": {
      "image/png": "[encoded data removed]",
      "text/plain": [
       "<Figure size 432x288 with 1 Axes>"
      ]
     },
     "metadata": {
      "needs_background": "light"
     },
     "output_type": "display_data"
    }
   ],
   "source": [
    "df['Review Date'].groupby([df['Review Date'].dt.year]).agg('count').plot(color = 'C2', kind=\"line\", title = \"Trend of comments from 2005 to 2014\")\n"
   ]
  },
  {
   "cell_type": "markdown",
   "metadata": {},
   "source": [
    "The trend shows an upward trend from 11 comments in 2005 reaching 1000 comments in 2013, an increase of  around 9000% in 8 years. This implies that nowadays we have millions of comments happening each day which means that an analyst working in the hotel management cannot track the comments except if it is automated in splitting comments into good or bad and giving advice to improve the work. This work is done using NLP and ML as shown further in this analysis"
   ]
  },
  {
   "cell_type": "markdown",
   "metadata": {},
   "source": [
    "#### How are ratings Distributed"
   ]
  },
  {
   "cell_type": "code",
   "execution_count": 26,
   "metadata": {},
   "outputs": [
    {
     "data": {
      "text/plain": [
       "<matplotlib.legend.Legend at 0x11ade5290>"
      ]
     },
     "execution_count": 26,
     "metadata": {},
     "output_type": "execute_result"
    },
    {
     "data": {
      "image/png": "[encoded data removed]",
      "text/plain": [
       "<Figure size 720x360 with 1 Axes>"
      ]
     },
     "metadata": {
      "needs_background": "light"
     },
     "output_type": "display_data"
    }
   ],
   "source": [
    "\n",
    "# Plot ratings frequency\n",
    "plt.figure(figsize = [10,5])   # [width, height]\n",
    "\n",
    "x = list( df['Star Rating'].value_counts().index )\n",
    "y = list( df['Star Rating'].value_counts() )\n",
    "plt.barh(x, y)\n",
    "\n",
    "ticks_x = np.linspace(0, 3000, 6)   # (start, end, number of ticks)\n",
    "plt.xticks(ticks_x, fontsize=10, family='fantasy', color='black')\n",
    "plt.yticks( size=15 )\n",
    "\n",
    "plt.title('Distribution of Ratings', fontsize=20, weight='bold', color='navy', loc='center')\n",
    "plt.xlabel('Count', fontsize=15, weight='bold', color='navy')\n",
    "plt.ylabel('Ratings', fontsize=15, weight='bold', color='navy')\n",
    "plt.legend(['Reviewer Score'], shadow=True, loc=4)"
   ]
  }
 ],
 "metadata": {
  "kernelspec": {
   "display_name": "Python 3",
   "language": "python",
   "name": "python3"
  },
  "language_info": {
   "codemirror_mode": {
    "name": "ipython",
    "version": 3
   },
   "file_extension": ".py",
   "mimetype": "text/x-python",
   "name": "python",
   "nbconvert_exporter": "python",
   "pygments_lexer": "ipython3",
   "version": "3.7.4"
  }
 },
 "nbformat": 4,
 "nbformat_minor": 2
}
